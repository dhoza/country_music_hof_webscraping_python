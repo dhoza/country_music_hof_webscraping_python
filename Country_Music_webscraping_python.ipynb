{
 "cells": [
  {
   "cell_type": "code",
   "execution_count": 2,
   "metadata": {},
   "outputs": [],
   "source": [
    "import requests\n",
    "from bs4 import BeautifulSoup  \n",
    "import pandas as pd\n",
    "from matplotlib import pyplot as plt"
   ]
  },
  {
   "cell_type": "markdown",
   "metadata": {},
   "source": [
    "## Make a request using the requests library\n",
    "request.get() uses http GET to get a webpage\n",
    "request.post() uses http POST when the webpage is submitting a form\n",
    "checking the status_code on the result let's you know your request was successful"
   ]
  },
  {
   "cell_type": "code",
   "execution_count": 3,
   "metadata": {},
   "outputs": [
    {
     "data": {
      "text/plain": [
       "200"
      ]
     },
     "execution_count": 3,
     "metadata": {},
     "output_type": "execute_result"
    }
   ],
   "source": [
    "website_url= 'https://countrymusichalloffame.org/hall-of-fame/members/'\n",
    "response = requests.get(website_url)\n",
    "\n",
    "response.status_code"
   ]
  },
  {
   "cell_type": "code",
   "execution_count": 4,
   "metadata": {},
   "outputs": [
    {
     "data": {
      "text/plain": [
       "200"
      ]
     },
     "execution_count": 4,
     "metadata": {},
     "output_type": "execute_result"
    }
   ],
   "source": [
    "website_url2='https://countrymusichalloffame.org/hall-of-fame/members/page/2'\n",
    "response2 = requests.get(website_url2)\n",
    "response2.status_code"
   ]
  },
  {
   "cell_type": "markdown",
   "metadata": {},
   "source": [
    "## Next look at the content of the result\n",
    "it is a Response datatype\n",
    "but it looks like an html document"
   ]
  },
  {
   "cell_type": "code",
   "execution_count": 5,
   "metadata": {},
   "outputs": [],
   "source": [
    "#print(type(response))\n",
    "#response.content"
   ]
  },
  {
   "cell_type": "code",
   "execution_count": 6,
   "metadata": {},
   "outputs": [],
   "source": [
    "#print(type(response2))\n",
    "#response2.content"
   ]
  },
  {
   "cell_type": "code",
   "execution_count": 7,
   "metadata": {
    "scrolled": true
   },
   "outputs": [
    {
     "name": "stdout",
     "output_type": "stream",
     "text": [
      "Hall of Fame Members | Country Music Hall of Fame\n"
     ]
    }
   ],
   "source": [
    "names = BeautifulSoup(response.content, 'lxml')\n",
    "print(names.title.text)"
   ]
  },
  {
   "cell_type": "code",
   "execution_count": 8,
   "metadata": {},
   "outputs": [
    {
     "name": "stdout",
     "output_type": "stream",
     "text": [
      "<title>Hall of Fame Members | Country Music Hall of Fame</title>\n"
     ]
    }
   ],
   "source": [
    "names2 = BeautifulSoup(response2.content, 'lxml')\n",
    "print(names2.title)"
   ]
  },
  {
   "cell_type": "code",
   "execution_count": 9,
   "metadata": {},
   "outputs": [],
   "source": [
    "#print(names)"
   ]
  },
  {
   "cell_type": "code",
   "execution_count": 10,
   "metadata": {},
   "outputs": [],
   "source": [
    "#print(names2)"
   ]
  },
  {
   "cell_type": "markdown",
   "metadata": {},
   "source": [
    "## You can get the table that contains the data from the page using beautiful soup\n"
   ]
  },
  {
   "cell_type": "markdown",
   "metadata": {},
   "source": [
    "It is a good idea to check to see how many tables you scraped\n",
    "then use pd.read_html() get a list dataframes extracted from the soup tables\n",
    "you'll need to convert the tables (still a response object) to a string before pandas can read it\n",
    "to load the table you want to a dataframe, grab it from the list of dataframes"
   ]
  },
  {
   "cell_type": "code",
   "execution_count": 11,
   "metadata": {},
   "outputs": [
    {
     "name": "stdout",
     "output_type": "stream",
     "text": [
      "Roy Acuff\n",
      "Alabama\n",
      "Bill Anderson\n",
      "Eddy Arnold\n",
      "Chet Atkins\n",
      "Gene Autry\n",
      "DeFord Bailey\n",
      "Bobby Bare\n",
      "Johnny Bond\n"
     ]
    }
   ],
   "source": [
    "## from Teng\n",
    "result_list=[]\n",
    "for artist in names.find_all('h3'):\n",
    "    print(artist.text)\n",
    "    result_list.append(artist.text)"
   ]
  },
  {
   "cell_type": "code",
   "execution_count": 12,
   "metadata": {},
   "outputs": [],
   "source": [
    "#result_listA = names.find_all('h3') \n",
    "#result_listA\n"
   ]
  },
  {
   "cell_type": "code",
   "execution_count": 13,
   "metadata": {},
   "outputs": [
    {
     "name": "stdout",
     "output_type": "stream",
     "text": [
      "Bobby Braddock\n",
      "Harold Bradley\n",
      "Jerry Bradley\n",
      "Owen Bradley\n",
      "Rod Brasfield\n",
      "Garth Brooks\n",
      "Brooks & Dunn\n",
      "Jim Ed Brown\n",
      "Jim Ed Brown and the Browns\n"
     ]
    }
   ],
   "source": [
    "result_list2=[]\n",
    "for artist in names2.find_all('h3'):\n",
    "    print(artist.text)\n",
    "    result_list2.append(artist.text)"
   ]
  },
  {
   "cell_type": "markdown",
   "metadata": {},
   "source": [
    "## Adding year inducted"
   ]
  },
  {
   "cell_type": "code",
   "execution_count": 14,
   "metadata": {},
   "outputs": [],
   "source": [
    "###Joshuas \n",
    "#artists = []\n",
    "#for i in range(len(vcards_t)):\n",
    "#    name = vcards_t[i].get_text().replace(\"\\n\", \"\")\n",
    "#    artists.append(name)\n",
    "#print(artists)\n"
   ]
  },
  {
   "cell_type": "code",
   "execution_count": 15,
   "metadata": {},
   "outputs": [],
   "source": [
    "#Teng\n",
    "x = [element.text for element in names.find_all(\"div\", \"vertical-card_content--copy\")]\n"
   ]
  },
  {
   "cell_type": "code",
   "execution_count": 16,
   "metadata": {},
   "outputs": [],
   "source": [
    "x2 = [element.text for element in names2.find_all(\"div\", \"vertical-card_content--copy\")]"
   ]
  },
  {
   "cell_type": "code",
   "execution_count": 17,
   "metadata": {},
   "outputs": [
    {
     "name": "stdout",
     "output_type": "stream",
     "text": [
      "['Inducted 1962', 'Inducted 2005', 'Inducted 2001', 'Inducted 1966', 'Inducted 1973', 'Inducted 1969', 'Inducted 2005', 'Inducted 2013', 'Inducted 1999']\n"
     ]
    }
   ],
   "source": [
    "year = []\n",
    "for element in x:\n",
    "    year.append(element.strip())\n",
    "\n",
    "print(year)\n"
   ]
  },
  {
   "cell_type": "code",
   "execution_count": 18,
   "metadata": {},
   "outputs": [],
   "source": [
    "year2 = []\n",
    "for element in x2:\n",
    "    year2.append(element.strip())"
   ]
  },
  {
   "cell_type": "code",
   "execution_count": 19,
   "metadata": {},
   "outputs": [
    {
     "name": "stdout",
     "output_type": "stream",
     "text": [
      "['Inducted 2011', 'Inducted 2006', 'Inducted 2019', 'Inducted 1974', 'Inducted 1987', 'Inducted 2012', 'Inducted 2019', 'Inducted 2015', 'Inducted 2015']\n"
     ]
    }
   ],
   "source": [
    "print(year2)"
   ]
  },
  {
   "cell_type": "code",
   "execution_count": 20,
   "metadata": {},
   "outputs": [
    {
     "name": "stdout",
     "output_type": "stream",
     "text": [
      "['Inducted', '1962', 'Inducted', '2005', 'Inducted', '2001', 'Inducted', '1966', 'Inducted', '1973', 'Inducted', '1969', 'Inducted', '2005', 'Inducted', '2013', 'Inducted', '1999']\n"
     ]
    }
   ],
   "source": [
    "\n",
    "b=[]\n",
    "for i in year:\n",
    " b+=i.split(\" \")\n",
    "print(b)"
   ]
  },
  {
   "cell_type": "code",
   "execution_count": 21,
   "metadata": {},
   "outputs": [
    {
     "name": "stdout",
     "output_type": "stream",
     "text": [
      "['Inducted', '2011', 'Inducted', '2006', 'Inducted', '2019', 'Inducted', '1974', 'Inducted', '1987', 'Inducted', '2012', 'Inducted', '2019', 'Inducted', '2015', 'Inducted', '2015']\n"
     ]
    }
   ],
   "source": [
    "c=[]\n",
    "for i in year2:\n",
    " c+=i.split(\" \")\n",
    "print(c)"
   ]
  },
  {
   "cell_type": "code",
   "execution_count": 22,
   "metadata": {},
   "outputs": [
    {
     "name": "stdout",
     "output_type": "stream",
     "text": [
      "['1962', '2005', '2001', '1966', '1973', '1969', '2005', '2013', '1999']\n"
     ]
    }
   ],
   "source": [
    "\n",
    "b=b[1::2]\n",
    "print(b)"
   ]
  },
  {
   "cell_type": "code",
   "execution_count": 23,
   "metadata": {},
   "outputs": [
    {
     "name": "stdout",
     "output_type": "stream",
     "text": [
      "['2011', '2006', '2019', '1974', '1987', '2012', '2019', '2015', '2015']\n"
     ]
    }
   ],
   "source": [
    "c=c[1::2]\n",
    "print(c)"
   ]
  },
  {
   "cell_type": "markdown",
   "metadata": {},
   "source": [
    "## Take the two lists you created on parts 1 and 2 and convert it into a pandas DataFrame."
   ]
  },
  {
   "cell_type": "code",
   "execution_count": 24,
   "metadata": {},
   "outputs": [
    {
     "data": {
      "text/plain": [
       "{'Name': ['Roy Acuff',\n",
       "  'Alabama',\n",
       "  'Bill Anderson',\n",
       "  'Eddy Arnold',\n",
       "  'Chet Atkins',\n",
       "  'Gene Autry',\n",
       "  'DeFord Bailey',\n",
       "  'Bobby Bare',\n",
       "  'Johnny Bond'],\n",
       " 'Year': ['1962',\n",
       "  '2005',\n",
       "  '2001',\n",
       "  '1966',\n",
       "  '1973',\n",
       "  '1969',\n",
       "  '2005',\n",
       "  '2013',\n",
       "  '1999']}"
      ]
     },
     "execution_count": 24,
     "metadata": {},
     "output_type": "execute_result"
    }
   ],
   "source": [
    "df={'Name':result_list,'Year':b}\n",
    "df"
   ]
  },
  {
   "cell_type": "code",
   "execution_count": 25,
   "metadata": {},
   "outputs": [
    {
     "data": {
      "text/plain": [
       "{'Name': ['Bobby Braddock',\n",
       "  'Harold Bradley',\n",
       "  'Jerry Bradley',\n",
       "  'Owen Bradley',\n",
       "  'Rod Brasfield',\n",
       "  'Garth Brooks',\n",
       "  'Brooks & Dunn',\n",
       "  'Jim Ed Brown',\n",
       "  'Jim Ed Brown and the Browns'],\n",
       " 'Year': ['2011',\n",
       "  '2006',\n",
       "  '2019',\n",
       "  '1974',\n",
       "  '1987',\n",
       "  '2012',\n",
       "  '2019',\n",
       "  '2015',\n",
       "  '2015']}"
      ]
     },
     "execution_count": 25,
     "metadata": {},
     "output_type": "execute_result"
    }
   ],
   "source": [
    "df2={'Name':result_list2,'Year':c}\n",
    "df2"
   ]
  },
  {
   "cell_type": "code",
   "execution_count": 26,
   "metadata": {},
   "outputs": [
    {
     "data": {
      "text/html": [
       "<div>\n",
       "<style scoped>\n",
       "    .dataframe tbody tr th:only-of-type {\n",
       "        vertical-align: middle;\n",
       "    }\n",
       "\n",
       "    .dataframe tbody tr th {\n",
       "        vertical-align: top;\n",
       "    }\n",
       "\n",
       "    .dataframe thead th {\n",
       "        text-align: right;\n",
       "    }\n",
       "</style>\n",
       "<table border=\"1\" class=\"dataframe\">\n",
       "  <thead>\n",
       "    <tr style=\"text-align: right;\">\n",
       "      <th></th>\n",
       "      <th>Name</th>\n",
       "      <th>Year</th>\n",
       "    </tr>\n",
       "  </thead>\n",
       "  <tbody>\n",
       "    <tr>\n",
       "      <th>0</th>\n",
       "      <td>Roy Acuff</td>\n",
       "      <td>1962</td>\n",
       "    </tr>\n",
       "    <tr>\n",
       "      <th>1</th>\n",
       "      <td>Alabama</td>\n",
       "      <td>2005</td>\n",
       "    </tr>\n",
       "    <tr>\n",
       "      <th>2</th>\n",
       "      <td>Bill Anderson</td>\n",
       "      <td>2001</td>\n",
       "    </tr>\n",
       "    <tr>\n",
       "      <th>3</th>\n",
       "      <td>Eddy Arnold</td>\n",
       "      <td>1966</td>\n",
       "    </tr>\n",
       "    <tr>\n",
       "      <th>4</th>\n",
       "      <td>Chet Atkins</td>\n",
       "      <td>1973</td>\n",
       "    </tr>\n",
       "    <tr>\n",
       "      <th>5</th>\n",
       "      <td>Gene Autry</td>\n",
       "      <td>1969</td>\n",
       "    </tr>\n",
       "    <tr>\n",
       "      <th>6</th>\n",
       "      <td>DeFord Bailey</td>\n",
       "      <td>2005</td>\n",
       "    </tr>\n",
       "    <tr>\n",
       "      <th>7</th>\n",
       "      <td>Bobby Bare</td>\n",
       "      <td>2013</td>\n",
       "    </tr>\n",
       "    <tr>\n",
       "      <th>8</th>\n",
       "      <td>Johnny Bond</td>\n",
       "      <td>1999</td>\n",
       "    </tr>\n",
       "  </tbody>\n",
       "</table>\n",
       "</div>"
      ],
      "text/plain": [
       "            Name  Year\n",
       "0      Roy Acuff  1962\n",
       "1        Alabama  2005\n",
       "2  Bill Anderson  2001\n",
       "3    Eddy Arnold  1966\n",
       "4    Chet Atkins  1973\n",
       "5     Gene Autry  1969\n",
       "6  DeFord Bailey  2005\n",
       "7     Bobby Bare  2013\n",
       "8    Johnny Bond  1999"
      ]
     },
     "execution_count": 26,
     "metadata": {},
     "output_type": "execute_result"
    }
   ],
   "source": [
    "df=pd.DataFrame(df)\n",
    "df"
   ]
  },
  {
   "cell_type": "code",
   "execution_count": 27,
   "metadata": {},
   "outputs": [
    {
     "data": {
      "text/html": [
       "<div>\n",
       "<style scoped>\n",
       "    .dataframe tbody tr th:only-of-type {\n",
       "        vertical-align: middle;\n",
       "    }\n",
       "\n",
       "    .dataframe tbody tr th {\n",
       "        vertical-align: top;\n",
       "    }\n",
       "\n",
       "    .dataframe thead th {\n",
       "        text-align: right;\n",
       "    }\n",
       "</style>\n",
       "<table border=\"1\" class=\"dataframe\">\n",
       "  <thead>\n",
       "    <tr style=\"text-align: right;\">\n",
       "      <th></th>\n",
       "      <th>Name</th>\n",
       "      <th>Year</th>\n",
       "    </tr>\n",
       "  </thead>\n",
       "  <tbody>\n",
       "    <tr>\n",
       "      <th>0</th>\n",
       "      <td>Bobby Braddock</td>\n",
       "      <td>2011</td>\n",
       "    </tr>\n",
       "    <tr>\n",
       "      <th>1</th>\n",
       "      <td>Harold Bradley</td>\n",
       "      <td>2006</td>\n",
       "    </tr>\n",
       "    <tr>\n",
       "      <th>2</th>\n",
       "      <td>Jerry Bradley</td>\n",
       "      <td>2019</td>\n",
       "    </tr>\n",
       "    <tr>\n",
       "      <th>3</th>\n",
       "      <td>Owen Bradley</td>\n",
       "      <td>1974</td>\n",
       "    </tr>\n",
       "    <tr>\n",
       "      <th>4</th>\n",
       "      <td>Rod Brasfield</td>\n",
       "      <td>1987</td>\n",
       "    </tr>\n",
       "    <tr>\n",
       "      <th>5</th>\n",
       "      <td>Garth Brooks</td>\n",
       "      <td>2012</td>\n",
       "    </tr>\n",
       "    <tr>\n",
       "      <th>6</th>\n",
       "      <td>Brooks &amp; Dunn</td>\n",
       "      <td>2019</td>\n",
       "    </tr>\n",
       "    <tr>\n",
       "      <th>7</th>\n",
       "      <td>Jim Ed Brown</td>\n",
       "      <td>2015</td>\n",
       "    </tr>\n",
       "    <tr>\n",
       "      <th>8</th>\n",
       "      <td>Jim Ed Brown and the Browns</td>\n",
       "      <td>2015</td>\n",
       "    </tr>\n",
       "  </tbody>\n",
       "</table>\n",
       "</div>"
      ],
      "text/plain": [
       "                          Name  Year\n",
       "0               Bobby Braddock  2011\n",
       "1               Harold Bradley  2006\n",
       "2                Jerry Bradley  2019\n",
       "3                 Owen Bradley  1974\n",
       "4                Rod Brasfield  1987\n",
       "5                 Garth Brooks  2012\n",
       "6                Brooks & Dunn  2019\n",
       "7                 Jim Ed Brown  2015\n",
       "8  Jim Ed Brown and the Browns  2015"
      ]
     },
     "execution_count": 27,
     "metadata": {},
     "output_type": "execute_result"
    }
   ],
   "source": [
    "df2=pd.DataFrame(df2)\n",
    "df2"
   ]
  },
  {
   "cell_type": "markdown",
   "metadata": {},
   "source": [
    "## write a for loop that will cycle through all 16 pages and build a DataFrame containing all inductees and the year of their induction."
   ]
  },
  {
   "cell_type": "code",
   "execution_count": 29,
   "metadata": {},
   "outputs": [],
   "source": [
    "url = 'https://countrymusichalloffame.org/hall-of-fame/members/page/'\n",
    "final_df = pd.DataFrame()\n",
    "\n",
    "for page in range(1,17):\n",
    "    r = requests.get(url + str(page))\n",
    "    soup = BeautifulSoup(r.content, \"lxml\")\n",
    "\n",
    "    result_list=[]\n",
    "    for artist in soup.find_all(\"h3\"):\n",
    "        #print(link.text)\n",
    "        result_list.append(artist.text)\n",
    "        \n",
    "    x = [element.text for element in soup.find_all(\"div\", \"vertical-card_content--copy\")]\n",
    "    year = []\n",
    "    for element in x:\n",
    "        year.append(element.strip())\n",
    "        \n",
    "    b=[]\n",
    "    for i in year:\n",
    "        b+=i.split(\" \")\n",
    "       \n",
    "    b=b[1::2]\n",
    "\n",
    "    dict={'Name':result_list,'Year':b}\n",
    "    df= pd.DataFrame(dict)\n",
    "    final_df = final_df.append(df)"
   ]
  },
  {
   "cell_type": "code",
   "execution_count": 30,
   "metadata": {},
   "outputs": [],
   "source": [
    "## Joshuas\n",
    "\n",
    "#Import re\n",
    "#website_url = 'https://countrymusichalloffame.org/hall-of-fame/members/{}'\n",
    "#artists = []\n",
    "#inducted = []\n",
    "#for page in range(1,17):\n",
    "#    url = website_url.format(page)\n",
    "#    response = requests.get(url)\n",
    "#    soup = BeautifulSoup(response.content, 'lxml')\n",
    "#    names = soup.find_all('div', attrs = {'class': 'vertical-card_content--title'})\n",
    "#    dates = soup.find_all('div', attrs = {'class': 'vertical-card_content--copy'})\n",
    "#    for i in range(len(names)):\n",
    "#        name = names[i].get_text().replace(\"\\n\", \"\").strip()\n",
    "#        artists.append(name)\n",
    "#    for i in range(len(dates)):\n",
    "#        date = dates[i].get_text().replace(\"\\n\", \"\").strip()\n",
    "#        year = re.sub(\"[^0-9]\", \"\", date)\n",
    "#        inducted.append(year)\n",
    "#print(artists)\n",
    "#print(inducted)"
   ]
  },
  {
   "cell_type": "code",
   "execution_count": 38,
   "metadata": {},
   "outputs": [
    {
     "data": {
      "text/html": [
       "<div>\n",
       "<style scoped>\n",
       "    .dataframe tbody tr th:only-of-type {\n",
       "        vertical-align: middle;\n",
       "    }\n",
       "\n",
       "    .dataframe tbody tr th {\n",
       "        vertical-align: top;\n",
       "    }\n",
       "\n",
       "    .dataframe thead th {\n",
       "        text-align: right;\n",
       "    }\n",
       "</style>\n",
       "<table border=\"1\" class=\"dataframe\">\n",
       "  <thead>\n",
       "    <tr style=\"text-align: right;\">\n",
       "      <th></th>\n",
       "      <th>Name</th>\n",
       "      <th>Year</th>\n",
       "    </tr>\n",
       "  </thead>\n",
       "  <tbody>\n",
       "    <tr>\n",
       "      <th>0</th>\n",
       "      <td>Roy Acuff</td>\n",
       "      <td>1962</td>\n",
       "    </tr>\n",
       "    <tr>\n",
       "      <th>1</th>\n",
       "      <td>Alabama</td>\n",
       "      <td>2005</td>\n",
       "    </tr>\n",
       "    <tr>\n",
       "      <th>2</th>\n",
       "      <td>Bill Anderson</td>\n",
       "      <td>2001</td>\n",
       "    </tr>\n",
       "    <tr>\n",
       "      <th>3</th>\n",
       "      <td>Eddy Arnold</td>\n",
       "      <td>1966</td>\n",
       "    </tr>\n",
       "    <tr>\n",
       "      <th>4</th>\n",
       "      <td>Chet Atkins</td>\n",
       "      <td>1973</td>\n",
       "    </tr>\n",
       "    <tr>\n",
       "      <th>...</th>\n",
       "      <td>...</td>\n",
       "      <td>...</td>\n",
       "    </tr>\n",
       "    <tr>\n",
       "      <th>135</th>\n",
       "      <td>Hank Williams</td>\n",
       "      <td>1961</td>\n",
       "    </tr>\n",
       "    <tr>\n",
       "      <th>136</th>\n",
       "      <td>Bob Wills</td>\n",
       "      <td>1968</td>\n",
       "    </tr>\n",
       "    <tr>\n",
       "      <th>137</th>\n",
       "      <td>Mac Wiseman</td>\n",
       "      <td>2014</td>\n",
       "    </tr>\n",
       "    <tr>\n",
       "      <th>138</th>\n",
       "      <td>Tammy Wynette</td>\n",
       "      <td>1998</td>\n",
       "    </tr>\n",
       "    <tr>\n",
       "      <th>139</th>\n",
       "      <td>Faron Young</td>\n",
       "      <td>2000</td>\n",
       "    </tr>\n",
       "  </tbody>\n",
       "</table>\n",
       "<p>140 rows × 2 columns</p>\n",
       "</div>"
      ],
      "text/plain": [
       "              Name  Year\n",
       "0        Roy Acuff  1962\n",
       "1          Alabama  2005\n",
       "2    Bill Anderson  2001\n",
       "3      Eddy Arnold  1966\n",
       "4      Chet Atkins  1973\n",
       "..             ...   ...\n",
       "135  Hank Williams  1961\n",
       "136      Bob Wills  1968\n",
       "137    Mac Wiseman  2014\n",
       "138  Tammy Wynette  1998\n",
       "139    Faron Young  2000\n",
       "\n",
       "[140 rows x 2 columns]"
      ]
     },
     "execution_count": 38,
     "metadata": {},
     "output_type": "execute_result"
    }
   ],
   "source": [
    "final_df\n",
    "#len(final_df.index)"
   ]
  },
  {
   "cell_type": "code",
   "execution_count": 32,
   "metadata": {},
   "outputs": [],
   "source": [
    "final_df.reset_index(drop=True, inplace=True)"
   ]
  },
  {
   "cell_type": "markdown",
   "metadata": {},
   "source": [
    "### Create a visual using the data that you scraped. Prepare a short (<5 minute) presentation."
   ]
  },
  {
   "cell_type": "code",
   "execution_count": 34,
   "metadata": {
    "scrolled": true
   },
   "outputs": [
    {
     "data": {
      "image/png": "[encoded data removed]",
      "text/plain": [
       "<Figure size 576x720 with 3 Axes>"
      ]
     },
     "metadata": {
      "needs_background": "light"
     },
     "output_type": "display_data"
    }
   ],
   "source": [
    "final_df['Year'] = final_df['Year'].astype('int')\n",
    "ax = final_df.hist(column='Year', bins=7, grid=False, figsize=(8,10), layout=(3,1), sharex=True, color='#86bf91', zorder=2, rwidth=0.9)"
   ]
  },
  {
   "cell_type": "markdown",
   "metadata": {},
   "source": [
    "### Bonus Question: If you navigate to Roy Acuff's page, you will see that his date of birth and date of death are listed towards the top of the page, along with his birthplace. Write some code that will extract these three values. Once you get it working for Roy Acuff, figure out how you can automatically extract these values across the whole dataset of artists. In doing this, you'll need to figure out a way to automatically determine the correct urls for each artist. Note also that not every artist will have these three values, so write your code in a way that it can handle cases where these values are missing. Alabama is one such example."
   ]
  },
  {
   "cell_type": "code",
   "execution_count": null,
   "metadata": {},
   "outputs": [],
   "source": [
    "url = 'https://countrymusichalloffame.org/artist/'\n",
    "final_df = pd.DataFrame()\n",
    "\n",
    "for name in final_df[::]:\n",
    "    r = requests.get(url + final_df[0])\n",
    "    soup = BeautifulSoup(r.content, \"lxml\")\n",
    "\n",
    "    result_list=[]\n",
    "    for artist in soup.find_all(\"p\"):\n",
    "        #print(link.text)\n",
    "        result_list.append(artist.text)\n",
    "        \n",
    "    x = [element.text for element in soup.find_all(\"div\", \"vertical-card_content--copy\")]\n",
    "    year = []\n",
    "    for element in x:\n",
    "        year.append(element.strip())\n",
    "        \n",
    "    b=[]\n",
    "    for i in year:\n",
    "        b+=i.split(\" \")\n",
    "       \n",
    "    b=b[1::2]\n",
    "\n",
    "    dict={'Name':result_list,'Year':b}\n",
    "    df= pd.DataFrame(dict)\n",
    "    final_df = final_df.append(df)"
   ]
  }
 ],
 "metadata": {
  "kernelspec": {
   "display_name": "Python 3",
   "language": "python",
   "name": "python3"
  },
  "language_info": {
   "codemirror_mode": {
    "name": "ipython",
    "version": 3
   },
   "file_extension": ".py",
   "mimetype": "text/x-python",
   "name": "python",
   "nbconvert_exporter": "python",
   "pygments_lexer": "ipython3",
   "version": "3.8.5"
  }
 },
 "nbformat": 4,
 "nbformat_minor": 4
}
